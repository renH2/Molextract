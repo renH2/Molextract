{
 "cells": [
  {
   "cell_type": "code",
   "execution_count": 1,
   "metadata": {},
   "outputs": [
    {
     "name": "stderr",
     "output_type": "stream",
     "text": [
      "Using backend: pytorch\n",
      "/home/zhiming/anaconda3/envs/freed_pt/lib/python3.7/importlib/_bootstrap.py:219: RuntimeWarning: to-Python converter for boost::shared_ptr<RDKit::FilterCatalogEntry const> already registered; second conversion method ignored.\n",
      "  return f(*args, **kwds)\n"
     ]
    }
   ],
   "source": [
    "import os \n",
    "import sys \n",
    "sys.path.insert(0, '/home/zhiming/data_extraction/My_FREED')\n",
    "os.chdir('/home/zhiming/data_extraction/My_FREED')\n",
    "\n",
    "import numpy as np\n",
    "import pickle as pkl \n",
    "\n",
    "from gym_molecule.envs.env_utils_graph import * \n",
    "from gym_molecule.envs.pretrained_models.context_pred.loader import mol_to_graph_data_obj_simple"
   ]
  },
  {
   "cell_type": "code",
   "execution_count": 2,
   "metadata": {},
   "outputs": [],
   "source": [
    "from gym_molecule.envs.pretrained_models.context_pred.model import GNN, GNN_graphpred \n",
    "import torch\n",
    "from rdkit import Chem \n",
    "\n",
    "\n",
    "# import os\n",
    "# import sys\n",
    "# module_path = os.path.abspath(os.path.join('...'))\n",
    "# if module_path not in sys.path:\n",
    "#     sys.path.append(module_path)\n",
    "\n",
    "from gym_molecule.envs.molecule_graph import *"
   ]
  },
  {
   "cell_type": "code",
   "execution_count": 3,
   "metadata": {},
   "outputs": [],
   "source": [
    "device=3\n",
    "model = GNN_graphpred(5, 300, 1, JK = 'last', drop_ratio = 0.5, graph_pooling = 'mean').to(device)"
   ]
  },
  {
   "cell_type": "code",
   "execution_count": 4,
   "metadata": {},
   "outputs": [],
   "source": [
    "state = torch.load('gym_molecule/envs/pretrained_models/context_pred/contextpred.pth')\n",
    "model.gnn.load_state_dict(state)\n",
    "_ = model.eval()"
   ]
  },
  {
   "cell_type": "code",
   "execution_count": 5,
   "metadata": {},
   "outputs": [],
   "source": [
    "smi_list, record_list = pkl.load(open(r'./tmp.pkl', 'rb'))"
   ]
  },
  {
   "cell_type": "code",
   "execution_count": 6,
   "metadata": {},
   "outputs": [],
   "source": [
    "smi, record = smi_list[0], record_list[0]"
   ]
  },
  {
   "cell_type": "code",
   "execution_count": 7,
   "metadata": {},
   "outputs": [],
   "source": [
    "scaffold = record[0][0]\n",
    "scaffold = Chem.DeleteSubstructs(scaffold, Chem.MolFromSmiles(\"*\"))\n",
    "side_chains = [FRAG_VOCAB_MOL_WO_ATT[sc[1]] for _, sc in record]\n"
   ]
  },
  {
   "cell_type": "code",
   "execution_count": 8,
   "metadata": {},
   "outputs": [],
   "source": [
    "sizes = [scaffold.GetNumAtoms()] +  [m.GetNumAtoms() for m in side_chains]\n",
    "graphs = [mol_to_graph_data_obj_simple(scaffold)] + [mol_to_graph_data_obj_simple(m) for m in side_chains]\n",
    "if device is not None:\n",
    "    graphs = [g.to(device) for g in graphs]"
   ]
  },
  {
   "cell_type": "code",
   "execution_count": 9,
   "metadata": {},
   "outputs": [],
   "source": [
    "G_hat = mol_to_graph_data_obj_simple(Chem.MolFromSmiles(smi))\n",
    "if device is not None:\n",
    "    G_hat = G_hat.to(device)"
   ]
  },
  {
   "cell_type": "code",
   "execution_count": 12,
   "metadata": {},
   "outputs": [],
   "source": [
    "G_hat_rep = model.forward_graph_representation(G_hat)\n",
    "\n",
    "reps = [model.forward_graph_representation(g) for g in graphs]"
   ]
  },
  {
   "cell_type": "code",
   "execution_count": 19,
   "metadata": {},
   "outputs": [],
   "source": [
    "sizes = torch.tensor(sizes)\n",
    "if device is not None:\n",
    "    sizes = sizes.to(device)"
   ]
  },
  {
   "cell_type": "code",
   "execution_count": 27,
   "metadata": {},
   "outputs": [
    {
     "data": {
      "text/plain": [
       "tensor([[ 1.0433e-02,  4.3924e-03, -3.4372e-03,  3.3572e-03, -6.7575e-02,\n",
       "         -5.0604e-03, -1.8692e-03,  4.1106e-01,  6.6599e-05, -7.5092e-06,\n",
       "         -2.1906e-03,  1.6212e-03,  3.3911e-02, -2.9714e-04,  2.3413e-03,\n",
       "         -4.6633e-03, -9.8536e-03, -4.9954e-03,  1.4341e-04, -9.2721e-01,\n",
       "          1.1597e-01, -1.4360e-01, -4.4112e-04,  5.7668e-02,  8.6507e-03,\n",
       "         -2.3102e-01,  9.8886e-04,  3.3124e-03,  9.5425e-04, -6.4741e-03,\n",
       "          5.1252e-03,  6.5467e-03, -3.5906e-04,  5.2304e-02, -8.3449e-02,\n",
       "         -3.0412e-03, -2.6314e-01,  5.5450e-04, -2.0793e-02, -4.6312e-03,\n",
       "         -1.6025e-03,  2.5223e-05,  2.1891e-01,  1.4829e-03,  7.7551e-03,\n",
       "          1.6018e-01,  8.1095e-04, -7.2764e-03, -1.6900e-05,  5.7077e-03,\n",
       "         -1.9073e-03, -1.3306e-02,  1.7296e-03,  3.1017e-03,  1.4971e-02,\n",
       "         -5.0020e-01,  7.1937e-03, -1.0195e-02,  8.7970e-04,  5.9063e-01,\n",
       "          3.7137e-03,  7.7840e-04, -8.9766e-02, -8.3407e-03,  4.5344e-03,\n",
       "          7.6344e-02, -2.9323e-03, -7.4511e-03,  1.3466e-02, -1.3960e-01,\n",
       "          3.6952e-04, -3.1875e-01, -5.7680e-03, -1.2389e-03, -5.1671e-05,\n",
       "         -3.3177e-04,  2.1529e-01, -8.9831e-03, -1.2258e-03,  1.1883e-03,\n",
       "          1.8340e-01,  1.4348e-01, -6.8905e-03,  2.0513e-03, -5.3338e-02,\n",
       "          2.1733e-04, -4.7025e-03,  5.8304e-03,  6.5398e-04, -1.2403e+00,\n",
       "          4.0490e-04,  4.5269e-02,  1.7236e-01, -2.2010e-02,  4.9709e-03,\n",
       "          4.7448e-05,  7.4926e-02,  6.6557e-04, -1.8969e-02, -7.4416e-02,\n",
       "         -2.2856e-01,  8.9730e-02,  8.5374e-04, -7.9305e-03,  1.1518e-01,\n",
       "          6.2328e-01, -1.2969e-03, -8.1808e-02, -9.4922e-03, -2.4879e-04,\n",
       "          3.6549e-03, -4.4289e-02, -1.9252e-03, -1.0591e-02, -1.7865e-01,\n",
       "         -9.5816e-05, -1.1787e-01, -4.5585e-02,  1.9393e-01, -3.0539e-03,\n",
       "          6.0407e-04, -4.3557e-02, -9.1447e-02, -2.0351e-01,  2.7439e-01,\n",
       "          9.0215e-02, -1.8145e+00,  8.6116e-04, -6.1881e-03, -8.7539e-03,\n",
       "          1.5128e-03,  2.2567e-02, -2.3357e-01, -4.6211e-02,  2.2646e-03,\n",
       "          1.7408e-04,  2.0527e-01, -1.9877e-04,  2.2017e-04, -5.3508e-03,\n",
       "          8.8603e-03, -1.8917e-03,  3.0893e-01, -1.0353e-01, -4.3089e-04,\n",
       "         -1.3575e-01,  2.1782e-03, -1.8519e-03, -9.0059e-03, -4.9572e-03,\n",
       "         -1.8361e-04,  1.7753e-03, -2.3117e-03, -4.1360e-02, -6.2909e-04,\n",
       "         -7.6660e-02,  3.3093e-03,  2.3723e-01, -5.4801e-04, -2.1937e-01,\n",
       "          7.0103e-02, -1.7511e-03, -1.3173e-01,  1.5013e-01, -1.4464e-02,\n",
       "          7.2619e-02, -8.4406e-02, -2.7637e-03,  3.4042e-03,  1.1394e+00,\n",
       "          3.8728e-01,  5.0297e-03,  3.3004e-01,  4.0378e-01,  7.0966e-03,\n",
       "         -1.3469e-01, -8.3740e-01,  5.7287e-03, -1.9760e-03, -4.3502e-03,\n",
       "          3.5732e-02,  1.3299e-03, -2.2843e-01,  6.2993e-05, -5.2901e-01,\n",
       "         -4.7338e-01,  9.5846e-05, -1.2312e-03,  1.3773e-01, -1.5164e-01,\n",
       "          1.3999e-02, -2.9243e-05,  3.2895e-03, -6.7420e-05, -3.2752e-04,\n",
       "         -5.9245e-03,  2.8360e-01,  3.5985e-04,  1.6307e-01,  5.0027e-04,\n",
       "          7.2685e-03, -5.4525e-05,  3.8634e-04, -3.2599e-03,  1.2596e-01,\n",
       "         -1.3215e-02, -1.6126e-01, -5.0027e-01,  1.4201e-03, -1.0379e-01,\n",
       "         -3.2809e-01, -1.5113e-01,  3.6958e-03,  1.5379e-01,  4.5327e-03,\n",
       "         -4.2920e-04, -5.0809e-01,  1.2715e-01, -2.1585e-04, -2.7928e-01,\n",
       "          7.1713e-06, -7.6435e-02, -2.0109e-04,  5.3256e-03, -2.4833e-05,\n",
       "          1.5591e-02, -1.2726e-03,  1.3315e-02, -5.9954e-01, -1.1142e-03,\n",
       "         -8.2938e-02, -1.1109e-02, -1.5545e-04,  1.3197e-02, -1.9377e-01,\n",
       "          6.7276e-01,  3.4575e-04,  1.5681e-03, -6.0780e-03, -8.1756e-03,\n",
       "          9.3956e-02, -4.9189e-04,  1.2331e-01,  5.7498e-02, -2.1671e-03,\n",
       "         -1.2401e-01, -4.3885e-01, -1.5354e-03, -1.9583e-01, -2.5129e-03,\n",
       "         -2.6338e-02,  1.1604e-03,  2.5337e-04, -7.2094e-02, -7.0775e-01,\n",
       "         -1.4648e-03,  6.7985e-02, -9.9158e-02,  5.4961e-03,  1.0443e+00,\n",
       "         -1.8102e-01,  5.7993e-01,  2.5435e-01, -1.2286e-01,  7.4920e-03,\n",
       "         -2.1016e-03,  2.5140e-04,  3.7818e-02, -3.0173e-01,  7.9279e-03,\n",
       "         -2.4008e-03,  8.6009e-03, -5.2776e-02,  2.6692e-02,  4.1369e-03,\n",
       "          1.7718e-02, -6.5409e-03, -2.0921e-01,  4.2907e-03, -1.8049e-04,\n",
       "         -1.7693e-01,  9.5420e-03, -8.4675e-02,  1.0340e-02,  4.6920e-02,\n",
       "          4.9402e-02, -2.4872e-01, -2.0576e-01,  6.6796e-04, -6.3916e-02,\n",
       "         -2.6783e-03,  1.1642e-04, -2.5569e-02, -1.0115e-04,  2.7465e-03,\n",
       "          7.0808e-04,  2.4226e-01,  6.0004e-05,  2.4589e-02, -3.5617e-03]],\n",
       "       device='cuda:3', grad_fn=<DivBackward0>)"
      ]
     },
     "execution_count": 27,
     "metadata": {},
     "output_type": "execute_result"
    }
   ],
   "source": []
  },
  {
   "cell_type": "code",
   "execution_count": 26,
   "metadata": {},
   "outputs": [
    {
     "data": {
      "text/plain": [
       "tensor([ 1.3332e-02,  4.2216e-03,  3.2643e-01,  3.7550e-03,  3.9277e-02,\n",
       "        -6.5641e-03, -3.3082e-03, -1.7353e-02,  3.5745e-04, -6.4819e-04,\n",
       "        -7.7656e-04,  1.9322e-03,  2.4919e-02, -5.9735e-04,  2.7228e-03,\n",
       "        -3.7424e-03, -1.0799e-02, -3.9753e-03,  1.4567e-04,  4.5255e-03,\n",
       "        -1.6825e-01,  6.0795e-02,  2.1519e-04,  1.7571e-01, -9.7611e-02,\n",
       "        -2.3227e-01,  9.9712e-04,  1.3111e-03,  3.0755e-04, -6.8643e-03,\n",
       "         5.0802e-03, -7.7460e-04, -3.1788e-04,  2.3259e-01, -4.5191e-02,\n",
       "         3.2605e-03, -1.6713e-01,  5.7592e-04, -7.5044e-03, -4.4487e-03,\n",
       "         1.1442e-04, -1.9479e-04,  2.6179e-01, -3.5132e-01,  5.1319e-03,\n",
       "         1.4298e-01,  7.6239e-04, -2.7573e-03, -4.9727e-05,  4.9565e-03,\n",
       "        -8.7286e-05, -1.5644e-02, -2.2793e-03,  3.1146e-03,  9.4832e-03,\n",
       "         4.1387e-01,  9.9951e-03, -4.1622e-02,  1.2881e-03,  1.8412e-01,\n",
       "         3.0311e-03,  8.9894e-04,  1.0066e-02, -8.2931e-03, -9.5274e-03,\n",
       "        -2.0846e-01, -3.4118e-03, -6.4310e-03,  1.3987e-02, -1.9147e-01,\n",
       "         3.5364e-04, -2.7520e-01,  5.0927e-04, -1.5745e-03, -5.9790e-05,\n",
       "        -2.8381e-04,  7.7685e-01, -1.3061e-03, -2.6863e-04,  9.6474e-03,\n",
       "         1.7110e-01, -3.2023e-01, -6.8860e-03,  7.0344e-03,  1.3515e-01,\n",
       "         2.1791e-04, -5.2586e-03,  5.5493e-03, -5.0241e-04, -5.5941e-01,\n",
       "         4.3683e-04, -8.0686e-01,  1.8065e-01,  1.9850e-01,  3.0571e-03,\n",
       "        -3.2142e-01, -1.6471e-01,  6.6317e-04,  9.8579e-02,  7.1887e-02,\n",
       "        -2.0506e-01,  4.1376e-02,  1.2671e-03, -1.0055e-02, -1.2797e-01,\n",
       "         7.3208e-01, -1.3000e-03, -8.2391e-02, -1.2785e-02, -2.4160e-04,\n",
       "         2.1563e-03, -1.6614e-01, -2.2982e-03, -1.1973e-02,  7.3031e-02,\n",
       "         2.5865e-04, -1.8095e-01,  1.0038e-01,  2.7134e-01, -3.0145e-03,\n",
       "         3.7359e-02, -1.3496e-01, -8.9357e-02,  2.5229e-01, -6.0153e-01,\n",
       "         1.2723e-02, -1.7910e+00,  2.0934e-03, -3.9412e-04, -9.3578e-03,\n",
       "         3.9576e-03,  4.1175e-01,  9.2262e-02,  1.0708e-01,  1.2199e-03,\n",
       "         1.7246e-04,  2.0036e-02, -1.9622e-04,  3.3548e-03,  2.0942e-03,\n",
       "         6.8973e-03, -1.8960e-03,  4.4005e-01, -1.8839e-01, -2.9668e-04,\n",
       "        -3.6997e-02,  2.7500e-03, -9.0235e-03, -9.1606e-03, -4.4720e-03,\n",
       "        -1.1891e-03,  2.4307e-03, -4.7362e-03, -5.1847e-02,  1.2579e-03,\n",
       "         1.0033e-01,  3.2848e-03, -8.5691e-02, -9.4139e-04,  4.5863e-02,\n",
       "         1.1184e-01, -2.5817e-03, -1.5882e-01, -8.0986e-02,  2.5839e-01,\n",
       "         7.7472e-01,  2.0343e-01, -3.5297e-03,  9.1524e-02,  1.3308e+00,\n",
       "        -2.4935e-01,  6.2332e-03,  3.3389e-01,  1.7012e-01,  6.7879e-03,\n",
       "        -1.8478e-02,  1.2941e-01,  4.1516e-03, -1.7299e-03, -4.7277e-03,\n",
       "         4.4703e-01,  1.2301e-03, -4.8304e-02,  1.6929e-04, -5.2901e-01,\n",
       "         2.1301e-02,  4.6551e-04, -9.2336e-04,  1.3137e-01,  6.4663e-02,\n",
       "         1.4076e-02, -8.3052e-05,  4.2726e-03,  3.4802e-05, -3.9820e-04,\n",
       "        -5.0047e-03,  5.6064e-01,  4.2564e-04, -1.8808e-01,  1.3015e-03,\n",
       "         6.5917e-03, -5.0024e-05,  4.2495e-04, -4.2368e-03,  1.1285e-01,\n",
       "        -1.2103e-01,  2.0683e-01, -2.4580e-01,  2.3697e-03, -5.6011e-02,\n",
       "        -5.8490e-01,  4.1844e-01,  3.7329e-03,  6.4918e-02,  4.0093e-03,\n",
       "         4.4086e-02, -5.0601e-01,  2.8526e-01, -6.9727e-04, -3.2061e-01,\n",
       "        -6.0613e-05, -9.4670e-02, -5.8231e-04,  5.5927e-03,  4.7050e-05,\n",
       "         2.2792e-02,  2.4931e-03,  1.1612e-02, -5.9824e-01,  1.5258e-03,\n",
       "        -3.0939e-01, -1.0299e-02, -1.8771e-03,  1.3279e-02, -5.3392e-02,\n",
       "         1.0500e+00,  2.1847e-03,  1.5459e-03, -2.0542e-03, -8.5638e-04,\n",
       "         6.6982e-02,  1.1141e-03,  3.3175e-01, -2.6189e-02, -2.2207e-03,\n",
       "        -2.7061e-01, -4.3757e-01, -1.4918e-03, -1.6029e-01, -9.6224e-04,\n",
       "         3.5897e-01,  1.2041e-03,  2.9350e-04, -8.7754e-02, -7.0694e-01,\n",
       "        -1.4326e-03,  1.2838e-01,  1.5336e-02, -3.1174e-03,  2.1860e-01,\n",
       "         3.0236e-02,  4.0919e-01,  2.9800e-01,  5.2024e-02,  1.2907e-02,\n",
       "        -1.5327e-03,  2.5914e-04,  3.4380e-01,  7.7153e-02,  6.7748e-03,\n",
       "        -3.3642e-03,  1.2108e-02, -2.0502e-01,  2.1175e-02,  4.0954e-03,\n",
       "         1.7611e-02, -7.4228e-03, -2.8271e-01,  4.1744e-03, -1.6046e-04,\n",
       "        -2.5915e-01,  1.0174e-02,  5.9124e-02,  1.8839e-02,  2.7429e-01,\n",
       "         3.9269e-02, -3.9828e-01,  6.4723e-02, -2.2199e-04,  6.4969e-02,\n",
       "        -2.4786e-03, -2.1407e-04, -1.8771e-02, -9.3917e-05,  2.6986e-03,\n",
       "        -4.2285e-04, -3.7383e-02,  9.2304e-03,  2.3617e-02,  8.7550e-02],\n",
       "       device='cuda:3', grad_fn=<DivBackward0>)"
      ]
     },
     "execution_count": 26,
     "metadata": {},
     "output_type": "execute_result"
    }
   ],
   "source": [
    "(sizes[:,np.newaxis] * torch.cat(reps)).sum(0, keepdim=True) / sizes.sum() "
   ]
  },
  {
   "cell_type": "code",
   "execution_count": 18,
   "metadata": {},
   "outputs": [
    {
     "data": {
      "text/plain": [
       "torch.Size([5, 300])"
      ]
     },
     "execution_count": 18,
     "metadata": {},
     "output_type": "execute_result"
    }
   ],
   "source": [
    "torch.cat(reps).shape"
   ]
  },
  {
   "cell_type": "code",
   "execution_count": null,
   "metadata": {},
   "outputs": [],
   "source": []
  }
 ],
 "metadata": {
  "kernelspec": {
   "display_name": "freed_pt",
   "language": "python",
   "name": "python3"
  },
  "language_info": {
   "codemirror_mode": {
    "name": "ipython",
    "version": 3
   },
   "file_extension": ".py",
   "mimetype": "text/x-python",
   "name": "python",
   "nbconvert_exporter": "python",
   "pygments_lexer": "ipython3",
   "version": "3.7.9"
  },
  "orig_nbformat": 4
 },
 "nbformat": 4,
 "nbformat_minor": 2
}
